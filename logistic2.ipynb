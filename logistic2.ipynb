{
 "cells": [
  {
   "cell_type": "code",
   "execution_count": 1,
   "metadata": {},
   "outputs": [
    {
     "name": "stdout",
     "output_type": "stream",
     "text": [
      "Feature Coefficients: [[ 0.01125523 -0.13563684  0.0145149   0.67531432 -0.38911795]\n",
      " [ 0.01082735  0.13875646 -0.02058734  0.64964032  0.18851125]\n",
      " [-0.02208258 -0.00311962  0.00607244 -1.32495464  0.2006067 ]]\n",
      "Accuracy: 0.82\n",
      "              precision    recall  f1-score   support\n",
      "\n",
      "      Expert       0.94      0.71      0.81       120\n",
      "Intermediate       0.70      0.94      0.80        87\n",
      "       Naive       1.00      1.00      1.00        21\n",
      "\n",
      "    accuracy                           0.82       228\n",
      "   macro avg       0.88      0.88      0.87       228\n",
      "weighted avg       0.86      0.82      0.82       228\n",
      "\n"
     ]
    },
    {
     "data": {
      "text/plain": [
       "['logistic2_coefficients.joblib']"
      ]
     },
     "execution_count": 1,
     "metadata": {},
     "output_type": "execute_result"
    }
   ],
   "source": [
    "import pandas as pd\n",
    "from sklearn.model_selection import train_test_split\n",
    "from sklearn.linear_model import LogisticRegression\n",
    "from sklearn.metrics import accuracy_score, classification_report\n",
    "from joblib import dump\n",
    "\n",
    "# Load the labeled data from the CSV file\n",
    "df = pd.read_csv(\"D:/PodiumPro/labeled_audio_results.csv\")\n",
    "\n",
    "# Split the data into features (X) and labels (y)\n",
    "X = df[[\"Articulation Rate\", \"Filler Word Count\", \"Average F0\", \"Speech Rate\", \"Speech Mood\"]]\n",
    "y = df[\"Label\"]\n",
    "\n",
    "# Split the data into training and testing sets\n",
    "X_train, X_test, y_train, y_test = train_test_split(X, y, test_size=0.2, random_state=42)\n",
    "\n",
    "# Create and train a Logistic Regression classifier\n",
    "logreg_classifier = LogisticRegression(max_iter=1000)\n",
    "logreg_classifier.fit(X_train, y_train)\n",
    "\n",
    "# Extract feature coefficients\n",
    "feature_coefficients = logreg_classifier.coef_\n",
    "\n",
    "# Print or visualize the feature coefficients\n",
    "print(\"Feature Coefficients:\", feature_coefficients)\n",
    "\n",
    "# Make predictions on the test data\n",
    "y_pred = logreg_classifier.predict(X_test)\n",
    "\n",
    "# Calculate accuracy and print the classification report\n",
    "accuracy = accuracy_score(y_test, y_pred)\n",
    "print(f\"Accuracy: {accuracy:.2f}\")\n",
    "classification_rep = classification_report(y_test, y_pred)\n",
    "print(classification_rep)\n",
    "\n",
    "# Save the trained model and feature coefficients\n",
    "dump(logreg_classifier, 'logistic2.joblib')\n",
    "dump(feature_coefficients, 'logistic2_coefficients.joblib')\n"
   ]
  },
  {
   "cell_type": "code",
   "execution_count": 2,
   "metadata": {},
   "outputs": [
    {
     "data": {
      "image/png": "[encoded data removed]",
      "text/plain": [
       "<Figure size 576x432 with 2 Axes>"
      ]
     },
     "metadata": {
      "needs_background": "light"
     },
     "output_type": "display_data"
    }
   ],
   "source": [
    "from sklearn.metrics import confusion_matrix\n",
    "import matplotlib.pyplot as plt\n",
    "import seaborn as sns\n",
    "\n",
    "# Assuming you already have the 'y_test' and 'y_pred' variables from the previous code\n",
    "\n",
    "# Create the confusion matrix\n",
    "cm = confusion_matrix(y_test, y_pred)\n",
    "\n",
    "# Visualize the confusion matrix using a heatmap\n",
    "plt.figure(figsize=(8, 6))\n",
    "sns.heatmap(cm, annot=True, fmt=\"d\", cmap=\"Blues\", xticklabels=[\"Naive\", \"Intermediate\", \"Expert\"], yticklabels=[\"Naive\", \"Intermediate\", \"Expert\"])\n",
    "plt.xlabel(\"Predicted\")\n",
    "plt.ylabel(\"Actual\")\n",
    "plt.title(\"Confusion Matrix\")\n",
    "plt.show()\n"
   ]
  },
  {
   "cell_type": "code",
   "execution_count": 3,
   "metadata": {},
   "outputs": [
    {
     "name": "stdout",
     "output_type": "stream",
     "text": [
      "Defaulting to user installation because normal site-packages is not writeable\n",
      "Requirement already satisfied: SpeechRecognition in c:\\users\\ghanc\\appdata\\roaming\\python\\python310\\site-packages (3.10.1)\n",
      "Requirement already satisfied: requests>=2.26.0 in c:\\users\\ghanc\\appdata\\roaming\\python\\python310\\site-packages (from SpeechRecognition) (2.28.1)\n",
      "Requirement already satisfied: typing-extensions in c:\\users\\ghanc\\appdata\\roaming\\python\\python310\\site-packages (from SpeechRecognition) (4.9.0)\n",
      "Requirement already satisfied: charset-normalizer<3,>=2 in c:\\users\\ghanc\\appdata\\roaming\\python\\python310\\site-packages (from requests>=2.26.0->SpeechRecognition) (2.1.0)\n",
      "Requirement already satisfied: idna<4,>=2.5 in c:\\users\\ghanc\\appdata\\roaming\\python\\python310\\site-packages (from requests>=2.26.0->SpeechRecognition) (3.3)\n",
      "Requirement already satisfied: urllib3<1.27,>=1.21.1 in c:\\users\\ghanc\\appdata\\roaming\\python\\python310\\site-packages (from requests>=2.26.0->SpeechRecognition) (1.26.10)\n",
      "Requirement already satisfied: certifi>=2017.4.17 in c:\\users\\ghanc\\appdata\\roaming\\python\\python310\\site-packages (from requests>=2.26.0->SpeechRecognition) (2022.6.15)\n"
     ]
    },
    {
     "name": "stderr",
     "output_type": "stream",
     "text": [
      "[nltk_data] Downloading package punkt to\n",
      "[nltk_data]     C:\\Users\\ghanc\\AppData\\Roaming\\nltk_data...\n",
      "[nltk_data]   Package punkt is already up-to-date!\n"
     ]
    },
    {
     "data": {
      "text/plain": [
       "True"
      ]
     },
     "execution_count": 3,
     "metadata": {},
     "output_type": "execute_result"
    }
   ],
   "source": [
    "!pip install SpeechRecognition\n",
    "import nltk\n",
    "nltk.download('punkt')"
   ]
  },
  {
   "cell_type": "code",
   "execution_count": 7,
   "metadata": {},
   "outputs": [
    {
     "name": "stdout",
     "output_type": "stream",
     "text": [
      "Predicted Class: ['Naive']\n",
      "Feature Feedback:\n",
      "Articulation Rate: 0.011255231128814852\n",
      "Filler Word Count: -0.13563684155597622\n",
      "Average F0: 0.014514901465980312\n",
      "Speech Rate: 0.6753143191633931\n",
      "Speech Mood: -0.3891179488006692\n",
      "Predicted Class: Naive\n",
      "\n",
      "Feature Feedback:\n",
      "Articulation Rate: Your articulation rate is relatively high. This is good for clarity and precision in speech. Consider maintaining or refining this aspect.\n",
      "Filler Word Count: Your usage of filler words is relatively low. Maintain or continue minimizing their use.\n",
      "Average F0: Your average fundamental frequency is relatively high. Maintain or refine your pitch variation for engaging speech.\n",
      "Speech Rate: Your speech rate is relatively high. Maintain or refine your current speech pace.\n",
      "Speech Mood: Negative sentiment detected. Consider incorporating more positive expressions for a more favorable communication style.\n",
      "\n"
     ]
    },
    {
     "name": "stderr",
     "output_type": "stream",
     "text": [
      "C:\\Users\\ghanc\\AppData\\Roaming\\Python\\Python310\\site-packages\\sklearn\\base.py:465: UserWarning: X does not have valid feature names, but LogisticRegression was fitted with feature names\n",
      "  warnings.warn(\n"
     ]
    }
   ],
   "source": [
    "import joblib\n",
    "import numpy as np\n",
    "import librosa\n",
    "import speech_recognition as sr\n",
    "import nltk\n",
    "from textblob import TextBlob\n",
    "import re\n",
    "\n",
    "# Function to extract features from audio (similar to your feature extraction logic)\n",
    "def extract_audio_features(audio_file):\n",
    "    # Load and process the audio file using Librosa\n",
    "    sample_rate = librosa.get_samplerate(audio_file)\n",
    "    y, sr_librosa = librosa.load(audio_file, sr=sample_rate)\n",
    "\n",
    "    # Gender Recognition (Use a pre-trained model or API)\n",
    "    # Implement gender recognition logic here and set 'gender' variable\n",
    "\n",
    "    # Speech-to-Text Conversion\n",
    "    recognizer = sr.Recognizer()\n",
    "    with sr.AudioFile(audio_file) as source:\n",
    "        audio = recognizer.record(source)\n",
    "\n",
    "    transcribed_text = recognizer.recognize_google(audio)\n",
    "\n",
    "    # Tokenize the transcribed text into words for articulation rate\n",
    "    words = nltk.word_tokenize(transcribed_text)\n",
    "\n",
    "    # Calculate the articulation rate (words per second)\n",
    "    duration_of_speech = len(y) / sr_librosa  # in seconds\n",
    "    articulation_rate = len(words) / duration_of_speech\n",
    "\n",
    "    # Calculate speech rate (words per minute)\n",
    "    speech_rate = len(words) / (duration_of_speech / 60)\n",
    "\n",
    "    # Sentiment Analysis (Speech Mood)\n",
    "    text_blob = TextBlob(transcribed_text)\n",
    "    speech_mood = text_blob.sentiment.polarity\n",
    "\n",
    "    # Filler Words Detection\n",
    "    # Define a list of common filler words\n",
    "    filler_words = [\"um\", \"uh\", \"like\", \"you know\", \"so\", \"actually\", \"basically\", \"literally\", \"totally\", \"seriously\", \"well\", \"anyway\", \"apparently\", \"honestly\", \"right\", \"I mean\", \"sort of\", \"kind of\"]\n",
    "\n",
    "    # Count the occurrences of filler words\n",
    "    filler_word_count = 0\n",
    "    for word in filler_words:\n",
    "        filler_word_count += len(re.findall(r'\\b' + word + r'\\b', transcribed_text, flags=re.IGNORECASE))\n",
    "\n",
    "    # F0 Statistics (Fundamental Frequency)\n",
    "    # You may need a separate library or model to calculate F0 statistics\n",
    "    f0, voiced_flag, voiced_probs = librosa.pyin(y, fmin=librosa.note_to_hz('C2'), fmax=librosa.note_to_hz('C7'))\n",
    "    average_f0 = f0[f0 > 0].mean()\n",
    "\n",
    "    # Return extracted features as a NumPy array\n",
    "    return np.array([articulation_rate, filler_word_count, average_f0, speech_rate, speech_mood])\n",
    "\n",
    "# Load the trained SVM model and feature coefficients\n",
    "model = joblib.load('logistic2.joblib')\n",
    "feature_coefficients = joblib.load('logistic2_coefficients.joblib')\n",
    "\n",
    "# Replace 'new_audio_file.wav' with the path to your new audio file\n",
    "new_audio_file = 'Vinod2.wav'\n",
    "\n",
    "# Extract features from the new audio file\n",
    "new_audio_data = extract_audio_features(new_audio_file)\n",
    "\n",
    "# Ensure that 'new_audio_data' is a 1D NumPy array\n",
    "# If needed, you can reshape it: new_audio_data = new_audio_data.reshape(1, -1)\n",
    "\n",
    "# Make predictions using the loaded model\n",
    "predicted_class = model.predict([new_audio_data])\n",
    "\n",
    "\n",
    "# Provide feature feedback based on feature coefficients\n",
    "feature_feedback = {\n",
    "    \"Articulation Rate\": feature_coefficients[0, 0],\n",
    "    \"Filler Word Count\": feature_coefficients[0, 1],\n",
    "    \"Average F0\": feature_coefficients[0, 2],\n",
    "    \"Speech Rate\": feature_coefficients[0, 3],\n",
    "    \"Speech Mood\": feature_coefficients[0, 4],\n",
    "}\n",
    "\n",
    "print(\"Predicted Class:\", predicted_class)\n",
    "print(\"Feature Feedback:\")\n",
    "for feature, coefficient in feature_feedback.items():\n",
    "    print(f\"{feature}: {coefficient}\")\n",
    "    \n",
    "# Provide feedback based on the predicted class and feature coefficients\n",
    "def provide_feedback(predicted_class, feature_feedback):\n",
    "    feedback_text = f\"Predicted Class: {predicted_class[0]}\\n\\nFeature Feedback:\\n\"\n",
    "\n",
    "    for feature, coefficient in feature_feedback.items():\n",
    "        if feature == \"Articulation Rate\":\n",
    "            if coefficient > 0:\n",
    "                feedback_text += f\"{feature}: Your articulation rate is relatively high. This is good for clarity and precision in speech. Consider maintaining or refining this aspect.\\n\"\n",
    "            elif coefficient < 0:\n",
    "                feedback_text += f\"{feature}: Your articulation rate is relatively low. Consider focusing on improving clarity and precision in your speech.\\n\"\n",
    "            else:\n",
    "                feedback_text += f\"{feature}: Your articulation rate is at a neutral level.\\n\"\n",
    "\n",
    "        elif feature == \"Filler Word Count\":\n",
    "            if coefficient > 0:\n",
    "                feedback_text += f\"{feature}: There is a relatively high occurrence of filler words in your speech. Consider reducing their usage for clearer communication.\\n\"\n",
    "            elif coefficient < 0:\n",
    "                feedback_text += f\"{feature}: Your usage of filler words is relatively low. Maintain or continue minimizing their use.\\n\"\n",
    "            else:\n",
    "                feedback_text += f\"{feature}: Your filler word count is at a neutral level.\\n\"\n",
    "\n",
    "        elif feature == \"Average F0\":\n",
    "            if coefficient > 0:\n",
    "                feedback_text += f\"{feature}: Your average fundamental frequency is relatively high. Maintain or refine your pitch variation for engaging speech.\\n\"\n",
    "            elif coefficient < 0:\n",
    "                feedback_text += f\"{feature}: Your average fundamental frequency is relatively low. Consider adding more pitch variation for expressive speech.\\n\"\n",
    "            else:\n",
    "                feedback_text += f\"{feature}: Your average fundamental frequency is at a neutral level.\\n\"\n",
    "\n",
    "        elif feature == \"Speech Rate\":\n",
    "            if coefficient > 0:\n",
    "                feedback_text += f\"{feature}: Your speech rate is relatively high. Maintain or refine your current speech pace.\\n\"\n",
    "            elif coefficient < 0:\n",
    "                feedback_text += f\"{feature}: Your speech rate is relatively low. Consider adjusting your speech pace for better engagement.\\n\"\n",
    "            else:\n",
    "                feedback_text += f\"{feature}: Your speech rate is at a neutral level.\\n\"\n",
    "\n",
    "        elif feature == \"Speech Mood\":\n",
    "            if coefficient > 0:\n",
    "                feedback_text += f\"{feature}: Positive sentiment detected. Maintain a positive and engaging tone in your speech.\\n\"\n",
    "            elif coefficient < 0:\n",
    "                feedback_text += f\"{feature}: Negative sentiment detected. Consider incorporating more positive expressions for a more favorable communication style.\\n\"\n",
    "            else:\n",
    "                feedback_text += f\"{feature}: Your speech mood is at a neutral level.\\n\"\n",
    "\n",
    "    return feedback_text\n",
    "\n",
    "feedback_text = provide_feedback(predicted_class, feature_feedback)\n",
    "print(feedback_text)\n"
   ]
  }
 ],
 "metadata": {
  "kernelspec": {
   "display_name": "Python 3",
   "language": "python",
   "name": "python3"
  },
  "language_info": {
   "codemirror_mode": {
    "name": "ipython",
    "version": 3
   },
   "file_extension": ".py",
   "mimetype": "text/x-python",
   "name": "python",
   "nbconvert_exporter": "python",
   "pygments_lexer": "ipython3",
   "version": "3.10.5"
  }
 },
 "nbformat": 4,
 "nbformat_minor": 2
}
